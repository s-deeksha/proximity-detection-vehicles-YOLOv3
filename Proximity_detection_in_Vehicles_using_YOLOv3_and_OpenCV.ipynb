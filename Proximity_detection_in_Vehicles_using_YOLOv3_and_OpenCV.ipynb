{
  "nbformat": 4,
  "nbformat_minor": 0,
  "metadata": {
    "colab": {
      "name": "Proximity detection in Vehicles using YOLOv3 and OpenCV.ipynb",
      "provenance": [],
      "collapsed_sections": [
        "cuybaiD9zBIP"
      ]
    },
    "kernelspec": {
      "name": "python3",
      "display_name": "Python 3"
    },
    "accelerator": "GPU"
  },
  "cells": [
    {
      "cell_type": "markdown",
      "metadata": {
        "id": "p1tEyIkJzOc6",
        "colab_type": "text"
      },
      "source": [
        "# Proximity Detection in Vehicles using YOLOv3 and OpenCV"
      ]
    },
    {
      "cell_type": "markdown",
      "metadata": {
        "id": "cuybaiD9zBIP",
        "colab_type": "text"
      },
      "source": [
        "## GPU and CPU Information"
      ]
    },
    {
      "cell_type": "code",
      "metadata": {
        "id": "vGhfK3aQ3HvJ",
        "colab_type": "code",
        "colab": {
          "base_uri": "https://localhost:8080/",
          "height": 437
        },
        "outputId": "06469f80-60a5-466a-f7f1-e91e7c5e3d36"
      },
      "source": [
        "#GPU information\n",
        "!nvidia-smi -L\n",
        "!nvidia-smi\n",
        "!lscpu |grep 'Model name'\n",
        "#memory that we can use\n",
        "!free -h --si | awk  '/Mem:/{print $2}'\n",
        "#hard disk space that we can use\n",
        "!df -h / | awk '{print $4}'"
      ],
      "execution_count": null,
      "outputs": [
        {
          "output_type": "stream",
          "text": [
            "GPU 0: Tesla T4 (UUID: GPU-ade0c882-4e44-d37b-d4e1-09c9d2fb38c6)\n",
            "Fri Aug 14 08:07:03 2020       \n",
            "+-----------------------------------------------------------------------------+\n",
            "| NVIDIA-SMI 450.57       Driver Version: 418.67       CUDA Version: 10.1     |\n",
            "|-------------------------------+----------------------+----------------------+\n",
            "| GPU  Name        Persistence-M| Bus-Id        Disp.A | Volatile Uncorr. ECC |\n",
            "| Fan  Temp  Perf  Pwr:Usage/Cap|         Memory-Usage | GPU-Util  Compute M. |\n",
            "|                               |                      |               MIG M. |\n",
            "|===============================+======================+======================|\n",
            "|   0  Tesla T4            Off  | 00000000:00:04.0 Off |                    0 |\n",
            "| N/A   57C    P0    30W /  70W |    115MiB / 15079MiB |      0%      Default |\n",
            "|                               |                      |                 ERR! |\n",
            "+-------------------------------+----------------------+----------------------+\n",
            "                                                                               \n",
            "+-----------------------------------------------------------------------------+\n",
            "| Processes:                                                                  |\n",
            "|  GPU   GI   CI        PID   Type   Process name                  GPU Memory |\n",
            "|        ID   ID                                                   Usage      |\n",
            "|=============================================================================|\n",
            "|  No running processes found                                                 |\n",
            "+-----------------------------------------------------------------------------+\n",
            "Model name:          Intel(R) Xeon(R) CPU @ 2.20GHz\n",
            "13G\n",
            "Avail\n",
            "35G\n"
          ],
          "name": "stdout"
        }
      ]
    },
    {
      "cell_type": "markdown",
      "metadata": {
        "id": "itN-q2LAzAF4",
        "colab_type": "text"
      },
      "source": [
        "## Importing libraries"
      ]
    },
    {
      "cell_type": "code",
      "metadata": {
        "id": "NI0e23KVe7Da",
        "colab_type": "code",
        "colab": {}
      },
      "source": [
        "from google.colab.patches import cv2_imshow\n",
        "from IPython.display import clear_output\n",
        "from scipy.spatial import distance\n",
        "import matplotlib.pyplot as plt\n",
        "from google.colab import drive\n",
        "from imutils.video import FPS\n",
        "import pandas as pd\n",
        "import numpy as np\n",
        "import time\n",
        "import cv2"
      ],
      "execution_count": null,
      "outputs": []
    },
    {
      "cell_type": "markdown",
      "metadata": {
        "id": "ogtBt6IczlvG",
        "colab_type": "text"
      },
      "source": [
        "## Mounting GDrive"
      ]
    },
    {
      "cell_type": "code",
      "metadata": {
        "id": "diIgPYdPzCzB",
        "colab_type": "code",
        "colab": {
          "base_uri": "https://localhost:8080/",
          "height": 121
        },
        "outputId": "afe3cc51-3251-471d-a118-baf7be58496e"
      },
      "source": [
        "drive.mount(\"/content/drive\")"
      ],
      "execution_count": null,
      "outputs": [
        {
          "output_type": "stream",
          "text": [
            "Go to this URL in a browser: https://accounts.google.com/o/oauth2/auth?client_id=947318989803-6bn6qk8qdgf4n4g3pfee6491hc0brc4i.apps.googleusercontent.com&redirect_uri=urn%3aietf%3awg%3aoauth%3a2.0%3aoob&scope=email%20https%3a%2f%2fwww.googleapis.com%2fauth%2fdocs.test%20https%3a%2f%2fwww.googleapis.com%2fauth%2fdrive%20https%3a%2f%2fwww.googleapis.com%2fauth%2fdrive.photos.readonly%20https%3a%2f%2fwww.googleapis.com%2fauth%2fpeopleapi.readonly&response_type=code\n",
            "\n",
            "Enter your authorization code:\n",
            "··········\n",
            "Mounted at /content/drive\n"
          ],
          "name": "stdout"
        }
      ]
    },
    {
      "cell_type": "code",
      "metadata": {
        "id": "pHqWIMUA33dP",
        "colab_type": "code",
        "colab": {
          "base_uri": "https://localhost:8080/",
          "height": 34
        },
        "outputId": "4282692e-c5e3-40e4-d10a-ef72b38138fb"
      },
      "source": [
        "%cd \"/content/drive/My Drive/yolo-coco/\""
      ],
      "execution_count": null,
      "outputs": [
        {
          "output_type": "stream",
          "text": [
            "/content/drive/My Drive/yolo-coco\n"
          ],
          "name": "stdout"
        }
      ]
    },
    {
      "cell_type": "markdown",
      "metadata": {
        "id": "KRY4juZSzsEu",
        "colab_type": "text"
      },
      "source": [
        "## Initializing Names file\n",
        "This file has all the lables associated with COCO dataset on which the YOLO Model has been pre-trained."
      ]
    },
    {
      "cell_type": "code",
      "metadata": {
        "id": "b5T3BGSdfCwZ",
        "colab_type": "code",
        "colab": {}
      },
      "source": [
        "# Load the COCO class labels in which our YOLO model was trained on\n",
        "labelsPath = \"coco.names\"\n",
        "labels = open(labelsPath).read().strip().split(\"\\n\")"
      ],
      "execution_count": null,
      "outputs": []
    },
    {
      "cell_type": "code",
      "metadata": {
        "id": "RT6BgHgyfGdS",
        "colab_type": "code",
        "colab": {
          "base_uri": "https://localhost:8080/",
          "height": 54
        },
        "outputId": "d89851d6-8d6e-40e2-f504-df85e4e989dd"
      },
      "source": [
        "print(labels)"
      ],
      "execution_count": null,
      "outputs": [
        {
          "output_type": "stream",
          "text": [
            "['person', 'bicycle', 'car', 'motorbike', 'aeroplane', 'bus', 'train', 'truck', 'boat', 'traffic light', 'fire hydrant', 'stop sign', 'parking meter', 'bench', 'bird', 'cat', 'dog', 'horse', 'sheep', 'cow', 'elephant', 'bear', 'zebra', 'giraffe', 'backpack', 'umbrella', 'handbag', 'tie', 'suitcase', 'frisbee', 'skis', 'snowboard', 'sports ball', 'kite', 'baseball bat', 'baseball glove', 'skateboard', 'surfboard', 'tennis racket', 'bottle', 'wine glass', 'cup', 'fork', 'knife', 'spoon', 'bowl', 'banana', 'apple', 'sandwich', 'orange', 'broccoli', 'carrot', 'hot dog', 'pizza', 'donut', 'cake', 'chair', 'sofa', 'pottedplant', 'bed', 'diningtable', 'toilet', 'tvmonitor', 'laptop', 'mouse', 'remote', 'keyboard', 'cell phone', 'microwave', 'oven', 'toaster', 'sink', 'refrigerator', 'book', 'clock', 'vase', 'scissors', 'teddy bear', 'hair drier', 'toothbrush']\n"
          ],
          "name": "stdout"
        }
      ]
    },
    {
      "cell_type": "markdown",
      "metadata": {
        "id": "IRkInPLyz8NO",
        "colab_type": "text"
      },
      "source": [
        "## Initializing and Loading Pre-Trained YOLO Model from Darknet Framework  "
      ]
    },
    {
      "cell_type": "code",
      "metadata": {
        "id": "KQNFlW-Uf67l",
        "colab_type": "code",
        "colab": {}
      },
      "source": [
        "weightsPath = \"yolov3.weights\"\n",
        "configPath = \"yolov3.cfg\"\n",
        "net = cv2.dnn.readNetFromDarknet(configPath, weightsPath)"
      ],
      "execution_count": null,
      "outputs": []
    },
    {
      "cell_type": "markdown",
      "metadata": {
        "id": "B9KXBgFc9_bs",
        "colab_type": "text"
      },
      "source": [
        "## Helper Function for distance calculation"
      ]
    },
    {
      "cell_type": "code",
      "metadata": {
        "id": "Hle1ra9qyfcA",
        "colab_type": "code",
        "colab": {}
      },
      "source": [
        "#Helper function to compute distances between mid-points for each prediction in a frame\n",
        "def find_distance(midpoints, num, lineStart, lineMid, lineEnd):\n",
        "  distStart = np.zeros(num)\n",
        "  distMid = np.zeros(num)\n",
        "  distEnd = np.zeros(num)\n",
        "  p=[]\n",
        "  for i in range(num):\n",
        "    d1 = distance.euclidean(lineStart, midpoints[i])\n",
        "    d2 = distance.euclidean(lineMid, midpoints[i])\n",
        "    d3 = distance.euclidean(lineEnd, midpoints[i])\n",
        "    distStart[i] = d1\n",
        "    distMid[i] = d2\n",
        "    distEnd[i] = d3\n",
        "  \n",
        "  for i in range(num):\n",
        "      if((distStart[i]<=200) or (distMid[i]<=200) or (distEnd[i]<=200)):\n",
        "        p.append(i)\n",
        "  return p"
      ],
      "execution_count": null,
      "outputs": []
    },
    {
      "cell_type": "markdown",
      "metadata": {
        "id": "jrvKL-s3-HBc",
        "colab_type": "text"
      },
      "source": [
        "## Predictions Helper function"
      ]
    },
    {
      "cell_type": "code",
      "metadata": {
        "id": "QmStCGLYgwi4",
        "colab_type": "code",
        "colab": {}
      },
      "source": [
        "# Create the function which predict the frame input\n",
        "def predict(image): \n",
        "    (H, W) = image.shape[:2]\n",
        "    \n",
        "    # determine only the \"ouput\" layers name which we need from YOLO\n",
        "    ln = net.getLayerNames()\n",
        "    ln = [ln[i[0] - 1] for i in net.getUnconnectedOutLayers()]\n",
        "    blob = cv2.dnn.blobFromImage(image, 1 / 255.0, (416, 416), swapRB=True, crop=False)\n",
        "    net.setInput(blob)\n",
        "    layerOutputs = net.forward(ln)\n",
        "    \n",
        "    boxes = []\n",
        "    confidences = []\n",
        "    classIDs = []\n",
        "    midPoints = []\n",
        "\n",
        "    for output in layerOutputs:\n",
        "        for detection in output:\n",
        "            scores = detection[5:]\n",
        "            classID = np.argmax(scores)\n",
        "            confidence = scores[classID]\n",
        "            if confidence > 0.5:\n",
        "                box = detection[0:4] * np.array([W, H, W, H])\n",
        "                (centerX, centerY, width, height) = box.astype(\"int\")\n",
        "                midpoint = (centerX,centerY)\n",
        "                x = int(centerX - (width / 2))\n",
        "                y = int(centerY - (height / 2))\n",
        "                boxes.append([x, y, int(width), int(height),midpoint])\n",
        "                confidences.append(float(confidence))\n",
        "                classIDs.append(classID)\n",
        "    idxs = cv2.dnn.NMSBoxes(boxes, confidences, 0.5, 0.3)\n",
        "\n",
        "    if len(idxs) > 0:\n",
        "        for i in idxs.flatten():\n",
        "          lineStart = (0,H-80)\n",
        "          lineMid = (int(W/2),H-80)\n",
        "          lineEnd = (W,H-80)\n",
        "          midPoints.append(boxes[i][4])\n",
        "          cv2.line(image,lineStart,lineEnd,(255,0,0),2)\n",
        "          cv2.circle(image,lineStart,5,(255,0,0),-1)\n",
        "          cv2.circle(image,lineMid,5,(255,0,0),-1)\n",
        "          cv2.circle(image,lineEnd,5,(255,0,0),-1)\n",
        "          riskList = find_distance(midPoints,len(midPoints), lineStart, lineMid, lineEnd)\n",
        "          for r in riskList:\n",
        "            (x, y) = (boxes[r][0], boxes[r][1])\n",
        "            (w, h) = (boxes[r][2], boxes[r][3])\n",
        "            color = (0,0,255)\n",
        "            if labels[classIDs[r]] == \"car\":\n",
        "              cv2.rectangle(image, (x, y), (x + w, y + h), color, 2)\n",
        "              text = \"Caution: {}\".format(labels[classIDs[r]])\n",
        "              cv2.putText(image, text, (x, y - 5), cv2.FONT_HERSHEY_PLAIN,1.5, color, 2)    \n",
        "    return image"
      ],
      "execution_count": null,
      "outputs": []
    },
    {
      "cell_type": "markdown",
      "metadata": {
        "id": "H7iICRWg-N4w",
        "colab_type": "text"
      },
      "source": [
        "## Running the model and highlighted nearest objects"
      ]
    },
    {
      "cell_type": "code",
      "metadata": {
        "id": "j0Ljh9654-R7",
        "colab_type": "code",
        "colab": {
          "base_uri": "https://localhost:8080/",
          "height": 67
        },
        "outputId": "ede7f7fe-fd29-4eb3-c308-a8da3e28b23a"
      },
      "source": [
        "%%time\n",
        "cap =cv2.VideoCapture(\"videos/DASH.mp4\")\n",
        "\n",
        "timer = []\n",
        "\n",
        "fps = FPS().start()\n",
        "number_frame = 30.0 \n",
        "video_size = (1280,720)\n",
        "fourcc = cv2.VideoWriter_fourcc(*\"DIVX\")\n",
        "out = cv2.VideoWriter(\"caution.mp4\",fourcc, number_frame,video_size)\n",
        "\n",
        "while True:\n",
        "    ret,frame = cap.read() \n",
        "    \n",
        "    if ret:\n",
        "        \n",
        "        frame = cv2.resize(frame, (1280,720))\n",
        "        start  = time.perf_counter() \n",
        "        frame = predict(frame)\n",
        "        time_took = time.perf_counter() - start\n",
        "\n",
        "        timer.append(round(time_took,2))\n",
        "        print(f\"Time took: {time_took:.2f}s\")\n",
        "        \n",
        "        \n",
        "        out.write(frame)\n",
        "                \n",
        "        fps.update()\n",
        "        \n",
        "        #Optional In-Line display of each frame as Yolo Predicts\n",
        "        clear_output(wait=True)\n",
        "        #cv2_imshow(frame)\n",
        "        if cv2.waitKey(1) & 0xff == ord(\"q\"):\n",
        "            break\n",
        "    else:\n",
        "        break\n",
        "fps.stop()\n",
        "print(\"[INFO] approx. FPS: {:.2f}\".format(fps.fps()))\n",
        "\n",
        "cap.release()   \n",
        "out.release()\n",
        "cv2.destroyAllWindows()"
      ],
      "execution_count": null,
      "outputs": [
        {
          "output_type": "stream",
          "text": [
            "[INFO] approx. FPS: 0.59\n",
            "CPU times: user 49min 14s, sys: 3.06 s, total: 49min 17s\n",
            "Wall time: 25min 51s\n"
          ],
          "name": "stdout"
        }
      ]
    },
    {
      "cell_type": "code",
      "metadata": {
        "id": "TJKcHoDMpkaV",
        "colab_type": "code",
        "colab": {
          "base_uri": "https://localhost:8080/",
          "height": 282
        },
        "outputId": "f0e2b2af-3d44-4b81-a02a-7230b914837f"
      },
      "source": [
        "plt.plot(timer)\n",
        "plt.ylabel(\"Time taken in seconds per Frame\")\n",
        "plt.show()\n",
        "\n",
        "print(\"Average Time taken to predict, per Frame: {:.2f}\".format(sum(timer)/len(timer)))"
      ],
      "execution_count": null,
      "outputs": [
        {
          "output_type": "display_data",
          "data": {
            "image/png": "[encoded data removed]",
            "text/plain": [
              "<Figure size 432x288 with 1 Axes>"
            ]
          },
          "metadata": {
            "tags": [],
            "needs_background": "light"
          }
        },
        {
          "output_type": "stream",
          "text": [
            "Average Time taken to predict, per Frame: 1.67\n"
          ],
          "name": "stdout"
        }
      ]
    },
    {
      "cell_type": "code",
      "metadata": {
        "id": "uYi2I0hlwL94",
        "colab_type": "code",
        "colab": {}
      },
      "source": [
        ""
      ],
      "execution_count": null,
      "outputs": []
    }
  ]
}